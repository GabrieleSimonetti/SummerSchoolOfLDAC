{
 "cells": [
  {
   "cell_type": "markdown",
   "metadata": {},
   "source": [
    "# Loading Jena in Jupyter Notebooks\n",
    "\n",
    "In order to run Jena using the IJava kernel on Jupyter notebooks, first we need to use some [IJava Magics](https://github.com/SpencerPark/IJava/blob/7f5aa9ab858859a010fd228364b080606399ae60/docs/magics.md#line-magic-2) to load it:"
   ]
  },
  {
   "cell_type": "code",
   "execution_count": 63,
   "metadata": {},
   "outputs": [],
   "source": [
    "%%loadFromPOM\n",
    "<dependency>\n",
    "    <groupId>org.apache.jena</groupId>\n",
    "    <artifactId>apache-jena-libs</artifactId>\n",
    "    <type>pom</type>\n",
    "    <version>3.11.0</version>\n",
    "</dependency>"
   ]
  },
  {
   "cell_type": "markdown",
   "metadata": {},
   "source": [
    "### Prevent log4j from throwing error messages\n",
    "\n",
    "The code below should prevent log4j from throwing error messages when loading data from code."
   ]
  },
  {
   "cell_type": "code",
   "execution_count": null,
   "metadata": {},
   "outputs": [],
   "source": [
    "%%loadFromPOM\n",
    "<dependencies>\n",
    "  <dependency>\n",
    "    <groupId> org.apache.cassandra</groupId>\n",
    "    <artifactId>cassandra-all</artifactId>\n",
    "    <version>0.8.1</version>\n",
    "\n",
    "    <exclusions>\n",
    "      <exclusion> \n",
    "        <groupId>org.slf4j</groupId>\n",
    "        <artifactId>slf4j-log4j12</artifactId>\n",
    "      </exclusion>\n",
    "      <exclusion> \n",
    "        <groupId>log4j</groupId>\n",
    "        <artifactId>log4j</artifactId>\n",
    "      </exclusion>\n",
    "    </exclusions> \n",
    "\n",
    "  </dependency>\n",
    "</dependencies>"
   ]
  },
  {
   "cell_type": "code",
   "execution_count": 55,
   "metadata": {},
   "outputs": [],
   "source": [
    "%jars c:\\\\jdrive\\\\lib\\\\apache-jena-3.12.0\\\\lib"
   ]
  },
  {
   "cell_type": "code",
   "execution_count": 69,
   "metadata": {},
   "outputs": [],
   "source": [
    "%classpath c:\\\\jdrive\\\\lib\\\\apache-jena-3.12.0\\\\lib"
   ]
  },
  {
   "cell_type": "markdown",
   "metadata": {},
   "source": [
    "### Import Jena dependencies\n",
    "\n",
    "Let's go ahead and import some Jena dependencies we will need to create models and manage the content of files."
   ]
  },
  {
   "cell_type": "code",
   "execution_count": 78,
   "metadata": {},
   "outputs": [],
   "source": [
    "import org.apache.jena.rdf.model.Model;\n",
    "import org.apache.jena.rdf.model.ModelFactory;\n",
    "import org.apache.jena.util.FileManager;\n",
    "import org.apache.jena.util.*;\n",
    "import org.apache.jena.ontology.impl.*;"
   ]
  },
  {
   "cell_type": "code",
   "execution_count": 77,
   "metadata": {},
   "outputs": [
    {
     "name": "stdout",
     "output_type": "stream",
     "text": [
      "test\n"
     ]
    },
    {
     "ename": "EvalException",
     "evalue": "Could not initialize class org.apache.jena.ontology.impl.OntModelImpl",
     "output_type": "error",
     "traceback": [
      "\u001b[1m\u001b[31m---------------------------------------------------------------------------\u001b[0m",
      "\u001b[1m\u001b[31mjava.lang.NoClassDefFoundError: Could not initialize class org.apache.jena.ontology.impl.OntModelImpl\u001b[0m",
      "\u001b[1m\u001b[31m\tat org.apache.jena.rdf.model.ModelFactory.createOntologyModel(ModelFactory.java:286)\u001b[0m",
      "\u001b[1m\u001b[31m\tat org.apache.jena.rdf.model.ModelFactory.createOntologyModel(ModelFactory.java:245)\u001b[0m",
      "\u001b[1m\u001b[31m\tat org.apache.jena.rdf.model.ModelFactory.createOntologyModel(ModelFactory.java:228)\u001b[0m",
      "\u001b[1m\u001b[31m\tat .(#85:1)\u001b[0m"
     ]
    }
   ],
   "source": [
    "System.out.println(\"test\");\n",
    "Model m = ModelFactory.createOntologyModel( );;"
   ]
  },
  {
   "cell_type": "markdown",
   "metadata": {},
   "source": [
    "<br>\n",
    "Let's create a Jena model object and load the BOT ontology into it.<br>\n",
    "If SLF4J throws a warning, ignore it."
   ]
  },
  {
   "cell_type": "code",
   "execution_count": 71,
   "metadata": {},
   "outputs": [
    {
     "ename": "EvalException",
     "evalue": "Could not initialize class org.apache.jena.util.FileManager",
     "output_type": "error",
     "traceback": [
      "\u001b[1m\u001b[31m---------------------------------------------------------------------------\u001b[0m",
      "\u001b[1m\u001b[31mjava.lang.NoClassDefFoundError: Could not initialize class org.apache.jena.util.FileManager\u001b[0m",
      "\u001b[1m\u001b[31m\tat .(#20:1)\u001b[0m"
     ]
    }
   ],
   "source": [
    "Model model = FileManager.get().loadModel(\"https://w3id.org/bot#\");"
   ]
  },
  {
   "cell_type": "markdown",
   "metadata": {},
   "source": [
    "<br>\n",
    "We can inspect the content of the file by printing it in the format of our preference, using System.out\n",
    "Available formats:<br>\n",
    ". Turtle<br>\n",
    ". RDF/XML<br>\n",
    ". RDF/JSON<br>\n",
    ". N-Triples<br>\n",
    ". TriG<br>\n",
    ". N-Quads"
   ]
  },
  {
   "cell_type": "code",
   "execution_count": 62,
   "metadata": {},
   "outputs": [
    {
     "ename": "EvalException",
     "evalue": "null",
     "output_type": "error",
     "traceback": [
      "\u001b[1m\u001b[31m---------------------------------------------------------------------------\u001b[0m",
      "\u001b[1m\u001b[31mjava.lang.NullPointerException: null\u001b[0m",
      "\u001b[1m\u001b[31m\tat .(#103:1)\u001b[0m"
     ]
    }
   ],
   "source": [
    "model.write(System.out, \"RDF/XML\");"
   ]
  },
  {
   "cell_type": "markdown",
   "metadata": {},
   "source": [
    "#Import the SHACL checker"
   ]
  },
  {
   "cell_type": "code",
   "execution_count": null,
   "metadata": {},
   "outputs": [],
   "source": [
    "%%loadFromPOM\n",
    "<dependency>\n",
    "  <groupId>org.topbraid</groupId>\n",
    "  <artifactId>shacl</artifactId>\n",
    "  <version>1.1.0</version>\n",
    "</dependency>"
   ]
  },
  {
   "cell_type": "code",
   "execution_count": 50,
   "metadata": {},
   "outputs": [
    {
     "ename": "EvalException",
     "evalue": "Could not initialize class org.apache.jena.ontology.impl.OntModelImpl",
     "output_type": "error",
     "traceback": [
      "\u001b[1m\u001b[31m---------------------------------------------------------------------------\u001b[0m",
      "\u001b[1m\u001b[31mjava.lang.NoClassDefFoundError: Could not initialize class org.apache.jena.ontology.impl.OntModelImpl\u001b[0m",
      "\u001b[1m\u001b[31m\tat org.apache.jena.rdf.model.ModelFactory.createOntologyModel(ModelFactory.java:286)\u001b[0m",
      "\u001b[1m\u001b[31m\tat org.apache.jena.rdf.model.ModelFactory.createOntologyModel(ModelFactory.java:245)\u001b[0m",
      "\u001b[1m\u001b[31m\tat org.apache.jena.rdf.model.ModelFactory.createOntologyModel(ModelFactory.java:228)\u001b[0m",
      "\u001b[1m\u001b[31m\tat .(#85:1)\u001b[0m"
     ]
    }
   ],
   "source": [
    "import org.apache.jena.ontology.OntModel;\n",
    "import org.apache.jena.reasoner.*;\n",
    "import org.apache.jena.rdf.model.InfModel;\n",
    "import org.apache.jena.rdf.model.Statement;\n",
    "import org.apache.jena.util.*;\n",
    "import org.apache.jena.rdf.model.*;\n",
    "import org.apache.jena.ontology.*;\n",
    "import org.apache.jena.vocabulary.OWL ;\n",
    "import org.apache.jena.vocabulary.RDF ;\n",
    "import org.apache.jena.vocabulary.RDFS ;\n",
    "\n",
    "\n",
    "//OntModel m = ModelFactory.createOntologyModel( OntModelSpec.OWL_MEM_MICRO_RULE_INF );\n",
    "\n",
    "OntModel m = ModelFactory.createOntologyModel( );\n",
    "bot.add(m);\n",
    "\n",
    "Model simple_house = FileManager.get().loadModel(\"../data/simple_bot.ttl\");\n",
    "\n",
    "\n",
    "//InfModel infmodel = ModelFactory.createOntologyModel(bot, simple_house);\n",
    "\n",
    "Reasoner reasoner = ReasonerRegistry.getOWLReasoner();\n",
    "reasoner = reasoner.bindSchema(bot);\n",
    "\n",
    "InfModel infmodel = ModelFactory.createInfModel(reasoner, simple_house);\n",
    "\n",
    "\n",
    "//simple_house.write(System.out,\"RDF/XML\");\n",
    "Resource Site = infmodel.getResource(\"https://ldac.org/house#Storey00\");\n",
    "for (StmtIterator i = ((Model)infmodel).listStatements(new SimpleSelector( Site, null, (RDFNode)null )); i.hasNext();){\n",
    "    Statement stmt = i.nextStatement();\n",
    "    System.out.println (PrintUtil.print(stmt));\n",
    "}"
   ]
  }
 ],
 "metadata": {
  "kernelspec": {
   "display_name": "Java",
   "language": "java",
   "name": "java"
  },
  "language_info": {
   "codemirror_mode": "java",
   "file_extension": ".jshell",
   "mimetype": "text/x-java-source",
   "name": "Java",
   "pygments_lexer": "java",
   "version": "12.0.1+12"
  }
 },
 "nbformat": 4,
 "nbformat_minor": 2
}
