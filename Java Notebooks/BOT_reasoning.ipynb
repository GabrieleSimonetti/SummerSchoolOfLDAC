{
 "cells": [
  {
   "cell_type": "markdown",
   "metadata": {},
   "source": [
    "# Jena Reasoning on a simple BOT instance\n",
    "\n",
    "In order to run Jena using the IJava kernel on Jupyter notebooks, first we need to use some [IJava Magics](https://github.com/SpencerPark/IJava/blob/7f5aa9ab858859a010fd228364b080606399ae60/docs/magics.md#line-magic-2) to load it:\n",
    "\n"
   ]
  },
  {
   "cell_type": "code",
   "execution_count": 1,
   "metadata": {},
   "outputs": [],
   "source": [
    "%%loadFromPOM\n",
    "<dependency>\n",
    "    <groupId>org.apache.jena</groupId>\n",
    "    <artifactId>apache-jena-libs</artifactId>\n",
    "    <type>pom</type>\n",
    "    <version>3.11.0</version>\n",
    "</dependency>"
   ]
  },
  {
   "cell_type": "code",
   "execution_count": 2,
   "metadata": {},
   "outputs": [],
   "source": [
    "%%loadFromPOM\n",
    "<dependencies>\n",
    "  <dependency>\n",
    "    <groupId> org.apache.cassandra</groupId>\n",
    "    <artifactId>cassandra-all</artifactId>\n",
    "    <version>0.8.1</version>\n",
    "\n",
    "    <exclusions>\n",
    "      <exclusion> \n",
    "        <groupId>org.slf4j</groupId>\n",
    "        <artifactId>slf4j-log4j12</artifactId>\n",
    "      </exclusion>\n",
    "      <exclusion> \n",
    "        <groupId>log4j</groupId>\n",
    "        <artifactId>log4j</artifactId>\n",
    "      </exclusion>\n",
    "    </exclusions> \n",
    "\n",
    "  </dependency>\n",
    "</dependencies>"
   ]
  },
  {
   "cell_type": "markdown",
   "metadata": {},
   "source": [
    "### Setting up Jena \n",
    "\n",
    "first, lets import all the Classes we will need for reasoning"
   ]
  },
  {
   "cell_type": "code",
   "execution_count": 4,
   "metadata": {},
   "outputs": [],
   "source": [
    "import org.apache.jena.reasoner.*;\n",
    "import org.apache.jena.rdf.model.InfModel;\n",
    "import org.apache.jena.rdf.model.Statement;\n",
    "import org.apache.jena.util.*;\n",
    "import org.apache.jena.rdf.model.*;\n",
    "import org.apache.jena.ontology.*;\n",
    "import org.apache.jena.vocabulary.OWL ;\n",
    "import org.apache.jena.vocabulary.RDF ;\n",
    "import org.apache.jena.vocabulary.RDFS;"
   ]
  },
  {
   "cell_type": "markdown",
   "metadata": {},
   "source": [
    "### Load an ABox from the the documentation example\n",
    "Now,load a simple model that has been created similar to the example in the BOT documentation on https://w3c-lbd-cg.github.io/bot/?tab=0#two-storey-building \n",
    "\n",
    "This is provided in the `../data` directory\n",
    "\n",
    "it consist of just a number of statements:\n",
    "\n",
    "```\n",
    ":SiteA a bot:Site ;\n",
    "    bot:hasBuilding :BuildingA .\n",
    "    \n",
    ":BuildingA bot:hasStorey :Storey00 , :Storey01 .\n",
    "\n",
    ":Storey00 bot:hasSpace :SpaceA , :SpaceB .\n",
    "\n",
    ":Storey01 bot:hasSpace :SpaceC , :SpaceD .\n",
    "```\n",
    "\n",
    "Let's print out what is known abou the :BuildingA\n",
    "\n"
   ]
  },
  {
   "cell_type": "code",
   "execution_count": 8,
   "metadata": {},
   "outputs": [
    {
     "name": "stdout",
     "output_type": "stream",
     "text": [
      "/***************** facts BEFORE inference ****************/\n",
      "(<https://ldac.org/house#BuildingA> <https://w3id.org/bot#hasStorey> <https://ldac.org/house#Storey01>)\n",
      "(<https://ldac.org/house#BuildingA> <https://w3id.org/bot#hasStorey> <https://ldac.org/house#Storey00>)\n"
     ]
    }
   ],
   "source": [
    "// load a simple instance file from the example az\n",
    "// https://w3c-lbd-cg.github.io/bot/?tab=0#two-storey-building\n",
    "/****** the A-BOX *************/\n",
    "Model simple_house = FileManager.get().loadModel(\"../data/simple_bot.ttl\");\n",
    "System.out.println (\"/***************** facts BEFORE inference ****************/\");\n",
    "Resource Site = simple_house.getResource(\"https://ldac.org/house#BuildingA\");\n",
    "for (StmtIterator i = ((Model)simple_house).listStatements(new SimpleSelector( Site, null, (RDFNode)null )); i.hasNext();){\n",
    "    Statement stmt = i.nextStatement();\n",
    "    System.out.println (PrintUtil.print(stmt));\n",
    "}"
   ]
  },
  {
   "cell_type": "markdown",
   "metadata": {},
   "source": [
    "### Load the BOT TBox \n",
    "Up to know, these are just the \"stupid\" facts asserted in the above snipptes. No knowledge about what the Resources actually are is present at present. \n",
    "\n",
    "In a second step the TBOX is loaded directly from its source.\n",
    "\n",
    "A Reasoner is created in that combines TBox and Abox and starts to make inferences"
   ]
  },
  {
   "cell_type": "code",
   "execution_count": 6,
   "metadata": {},
   "outputs": [
    {
     "name": "stdout",
     "output_type": "stream",
     "text": [
      "\n",
      "\n",
      "/***************** facts AFTER inference ****************/\n",
      "(<https://ldac.org/house#BuildingA> <https://w3id.org/bot#hasStorey> <https://ldac.org/house#Storey01>)\n",
      "(<https://ldac.org/house#BuildingA> <https://w3id.org/bot#hasStorey> <https://ldac.org/house#Storey00>)\n",
      "(<https://ldac.org/house#BuildingA> rdf:type owl:Thing)\n",
      "(<https://ldac.org/house#BuildingA> rdf:type <https://w3id.org/bot#Building>)\n",
      "(<https://ldac.org/house#BuildingA> <https://w3id.org/bot#containsZone> <https://ldac.org/house#Storey01>)\n",
      "(<https://ldac.org/house#BuildingA> <https://w3id.org/bot#containsZone> <https://ldac.org/house#Storey00>)\n",
      "(<https://ldac.org/house#BuildingA> rdf:type <https://w3id.org/bot#Zone>)\n",
      "(<https://ldac.org/house#BuildingA> rdf:type rdfs:Resource)\n",
      "(<https://ldac.org/house#BuildingA> <https://w3id.org/bot#containsZone> <https://ldac.org/house#SpaceD>)\n",
      "(<https://ldac.org/house#BuildingA> <https://w3id.org/bot#containsZone> <https://ldac.org/house#SpaceC>)\n",
      "(<https://ldac.org/house#BuildingA> <https://w3id.org/bot#containsZone> <https://ldac.org/house#SpaceB>)\n",
      "(<https://ldac.org/house#BuildingA> <https://w3id.org/bot#containsZone> <https://ldac.org/house#SpaceA>)\n",
      "(<https://ldac.org/house#BuildingA> owl:sameAs <https://ldac.org/house#BuildingA>)\n",
      "(<https://ldac.org/house#BuildingA> owl:differentFrom <https://ldac.org/house#SpaceD>)\n",
      "(<https://ldac.org/house#BuildingA> owl:differentFrom <https://ldac.org/house#SpaceC>)\n",
      "(<https://ldac.org/house#BuildingA> owl:differentFrom <https://ldac.org/house#SpaceB>)\n",
      "(<https://ldac.org/house#BuildingA> owl:differentFrom <https://ldac.org/house#SpaceA>)\n",
      "(<https://ldac.org/house#BuildingA> owl:differentFrom <https://ldac.org/house#Storey01>)\n",
      "(<https://ldac.org/house#BuildingA> owl:differentFrom <https://ldac.org/house#Storey00>)\n",
      "(<https://ldac.org/house#BuildingA> owl:differentFrom <https://ldac.org/house#SiteA>)\n"
     ]
    }
   ],
   "source": [
    "// import the BOT Ontology from the source via HTTP\n",
    "/****** the T-BOX *************/\n",
    "Model bot = FileManager.get().loadModel(\"https://w3id.org/bot#\");\n",
    "\n",
    "// create on OWL reasoner and feed it the bot ontology model\n",
    "Reasoner reasoner = ReasonerRegistry.getOWLReasoner();\n",
    "reasoner = reasoner.bindSchema(bot);\n",
    "\n",
    "//create inferences from \n",
    "InfModel infmodel = ModelFactory.createInfModel(reasoner, simple_house);\n",
    "System.out.println (\"\\n\\n/***************** facts AFTER inference ****************/\");\n",
    "// print out all statements asserted and inferred \n",
    "Resource Site = infmodel.getResource(\"https://ldac.org/house#BuildingA\");\n",
    "for (StmtIterator i = ((Model)infmodel).listStatements(new SimpleSelector( Site, null, (RDFNode)null )); i.hasNext();){\n",
    "    Statement stmt = i.nextStatement();\n",
    "    System.out.println (PrintUtil.print(stmt));\n",
    "}"
   ]
  },
  {
   "cell_type": "markdown",
   "metadata": {},
   "source": [
    "### Extend the BOT ontology with a \"connectivity\" property\n",
    "\n",
    "A simple extension is loaded that consists of the following three statements:\n",
    "```\n",
    "@prefix bot:  <https://w3id.org/bot#> .\n",
    "@prefix conn:  <https://ldac.org/connection#> .\n",
    "@prefix rdfs:  <http://www.w3.org/2000/01/rdf-schema#> .\n",
    "@prefix owl:  <http://www.w3.org/2002/07/owl#> .\n",
    "\n",
    "conn:isConnectedTo a owl:SymmetricProperty;\n",
    "             a owl:TransitiveProperty;\n",
    "             rdfs:range bot:Zone.\n",
    "```\n",
    "\n",
    "The `owl:SymmetricProperty` means that \n",
    "- if A is connected to B \n",
    "- then it follows that B is connected to A\n",
    "\n",
    "The `owl:TransitiveProperty` means that\n",
    "- if A is connected to B\n",
    "- and B is connected to C\n",
    "- then A is connected to C\n",
    "\n",
    "combining both also means \n",
    "- C is connected to A\n",
    "\n",
    "In our ABox, we  a few statements to that end have been added:\n",
    "```\n",
    ":SpaceA conn:isConnectedTo :SpaceB .\n",
    ":SpaceB conn:isConnectedTo :SpaceC .\n",
    ":Storey00 conn:isConnectedTo :SpaceA .\n",
    "```\n",
    "\n",
    "Lets take a look at `:Storey00`\n"
   ]
  },
  {
   "cell_type": "code",
   "execution_count": 9,
   "metadata": {},
   "outputs": [
    {
     "name": "stdout",
     "output_type": "stream",
     "text": [
      "(<https://ldac.org/house#Storey00> <https://ldac.org/connection#isConnectedTo> <https://ldac.org/house#SpaceA>)\n",
      "(<https://ldac.org/house#Storey00> <https://w3id.org/bot#hasSpace> <https://ldac.org/house#SpaceB>)\n",
      "(<https://ldac.org/house#Storey00> <https://w3id.org/bot#hasSpace> <https://ldac.org/house#SpaceA>)\n",
      "(<https://ldac.org/house#Storey00> rdf:type <https://w3id.org/bot#Storey>)\n",
      "(<https://ldac.org/house#Storey00> rdf:type owl:Thing)\n",
      "(<https://ldac.org/house#Storey00> <https://w3id.org/bot#containsZone> <https://ldac.org/house#SpaceB>)\n",
      "(<https://ldac.org/house#Storey00> <https://w3id.org/bot#containsZone> <https://ldac.org/house#SpaceA>)\n",
      "(<https://ldac.org/house#Storey00> rdf:type <https://w3id.org/bot#Zone>)\n",
      "(<https://ldac.org/house#Storey00> <https://ldac.org/connection#isConnectedTo> <https://ldac.org/house#SpaceB>)\n",
      "(<https://ldac.org/house#Storey00> <https://ldac.org/connection#isConnectedTo> <https://ldac.org/house#SpaceC>)\n",
      "(<https://ldac.org/house#Storey00> <https://ldac.org/connection#isConnectedTo> <https://ldac.org/house#Storey00>)\n",
      "(<https://ldac.org/house#Storey00> rdf:type rdfs:Resource)\n",
      "(<https://ldac.org/house#Storey00> owl:sameAs <https://ldac.org/house#Storey00>)\n",
      "(<https://ldac.org/house#Storey00> owl:differentFrom <https://ldac.org/house#SiteA>)\n",
      "(<https://ldac.org/house#Storey00> owl:differentFrom <https://ldac.org/house#BuildingA>)\n",
      "(<https://ldac.org/house#Storey00> owl:differentFrom <https://ldac.org/house#SpaceD>)\n",
      "(<https://ldac.org/house#Storey00> owl:differentFrom <https://ldac.org/house#SpaceC>)\n",
      "(<https://ldac.org/house#Storey00> owl:differentFrom <https://ldac.org/house#SpaceB>)\n",
      "(<https://ldac.org/house#Storey00> owl:differentFrom <https://ldac.org/house#SpaceA>)\n"
     ]
    }
   ],
   "source": [
    "Model conn = FileManager.get().loadModel(\"../data/conn.ttl\");\n",
    "bot.add(conn);\n",
    "\n",
    "Reasoner reasoner = ReasonerRegistry.getOWLReasoner();\n",
    "reasoner = reasoner.bindSchema(bot);\n",
    "\n",
    "//create inferences from \n",
    "InfModel infmodel = ModelFactory.createInfModel(reasoner, simple_house);\n",
    "\n",
    "//simple_house.write(System.out,\"RDF/XML\");\n",
    "Resource Site = infmodel.getResource(\"https://ldac.org/house#Storey00\");\n",
    "for (StmtIterator i = ((Model)infmodel).listStatements(new SimpleSelector( Site, null, (RDFNode)null )); i.hasNext();){\n",
    "    Statement stmt = i.nextStatement();\n",
    "    System.out.println (PrintUtil.print(stmt));\n",
    "}"
   ]
  }
 ],
 "metadata": {
  "kernelspec": {
   "display_name": "Java",
   "language": "java",
   "name": "java"
  },
  "language_info": {
   "codemirror_mode": "java",
   "file_extension": ".jshell",
   "mimetype": "text/x-java-source",
   "name": "Java",
   "pygments_lexer": "java",
   "version": "12.0.1+12"
  }
 },
 "nbformat": 4,
 "nbformat_minor": 2
}
