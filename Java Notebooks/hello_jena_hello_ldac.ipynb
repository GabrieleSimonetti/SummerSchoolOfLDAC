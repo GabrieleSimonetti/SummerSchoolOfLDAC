{
 "cells": [
  {
   "cell_type": "markdown",
   "metadata": {},
   "source": [
    "# Hello Jena, hello LDAC\n",
    "### Constructing a simple RDF Graph with Jena\n",
    "\n",
    "In order to run Jena using the IJava kernel on Jupyter notebooks, first we need to use some [IJava Magics](https://github.com/SpencerPark/IJava/blob/7f5aa9ab858859a010fd228364b080606399ae60/docs/magics.md#line-magic-2) to load it:\n",
    "\n",
    "\n"
   ]
  },
  {
   "cell_type": "code",
   "execution_count": null,
   "metadata": {},
   "outputs": [],
   "source": [
    "%%loadFromPOM\n",
    "<dependency>\n",
    "    <groupId>org.apache.jena</groupId>\n",
    "    <artifactId>apache-jena-libs</artifactId>\n",
    "    <type>pom</type>\n",
    "    <version>3.11.0</version>\n",
    "</dependency>"
   ]
  },
  {
   "cell_type": "code",
   "execution_count": null,
   "metadata": {},
   "outputs": [],
   "source": [
    "%%loadFromPOM\n",
    "<dependencies>\n",
    "  <dependency>\n",
    "    <groupId> org.apache.cassandra</groupId>\n",
    "    <artifactId>cassandra-all</artifactId>\n",
    "    <version>0.8.1</version>\n",
    "\n",
    "    <exclusions>\n",
    "      <exclusion> \n",
    "        <groupId>org.slf4j</groupId>\n",
    "        <artifactId>slf4j-log4j12</artifactId>\n",
    "      </exclusion>\n",
    "      <exclusion> \n",
    "        <groupId>log4j</groupId>\n",
    "        <artifactId>log4j</artifactId>\n",
    "      </exclusion>\n",
    "    </exclusions> \n",
    "\n",
    "  </dependency>\n",
    "</dependencies>"
   ]
  },
  {
   "cell_type": "markdown",
   "metadata": {},
   "source": [
    "### Setting up Jena \n",
    "\n",
    "first, let's import some of the standard classes for model manipulation in Jena"
   ]
  },
  {
   "cell_type": "code",
   "execution_count": null,
   "metadata": {},
   "outputs": [],
   "source": [
    "import org.apache.jena.rdf.model.ModelFactory;\n",
    "import org.apache.jena.util.FileManager;\n",
    "import org.apache.jena.ontology.OntModel;\n",
    "import org.apache.jena.reasoner.*;\n",
    "import org.apache.jena.rdf.model.InfModel;\n",
    "import org.apache.jena.rdf.model.Statement;\n",
    "import org.apache.jena.util.*;\n",
    "import org.apache.jena.rdf.model.*;\n",
    "import org.apache.jena.ontology.*;\n",
    "import org.apache.jena.vocabulary.OWL ;\n",
    "import org.apache.jena.vocabulary.RDF ;\n",
    "import org.apache.jena.vocabulary.RDFS ;\n",
    "import org.apache.jena.vocabulary.VCARD;\n",
    "import org.apache.jena.sparql.vocabulary.FOAF "
   ]
  },
  {
   "cell_type": "markdown",
   "metadata": {},
   "source": [
    "### Create a simple TBox model"
   ]
  },
  {
   "cell_type": "code",
   "execution_count": 39,
   "metadata": {},
   "outputs": [],
   "source": [
    "Model m  = ModelFactory.createDefaultModel();"
   ]
  },
  {
   "cell_type": "markdown",
   "metadata": {},
   "source": [
    "### Create some statements\n",
    "Using the vcard vocabulary \n",
    "https://www.w3.org/TR/vcard-rdf/\n"
   ]
  },
  {
   "cell_type": "code",
   "execution_count": null,
   "metadata": {},
   "outputs": [],
   "source": [
    "String personURI    = \"http://linkedbuildingdata.org/people/\";\n",
    "\n",
    "Resource maria = m.createResource(personURI+\"MariaPovedaVillalon\");\n",
    "maria.addProperty (RDF.type, FOAF.Person);\n",
    "maria.addProperty (FOAF.name, \"Maria Poveda Villalón\");\n",
    "maria.addProperty (FOAF.firstName, \"Maria\");\n",
    "maria.addProperty (FOAF.familyName, \"Poveda\");\n",
    "\n",
    "// create the pieter Resource, add VCARD information\n",
    "String givenName    = \"Pieter\";\n",
    "String familyName   = \"Pauwels\";\n",
    "String fullName     = givenName + \" \" + familyName;\n",
    "\n",
    "// create the resource\n",
    "//   and add the properties cascading style\n",
    "Resource pieter \n",
    "  = m.createResource(personURI+givenName+familyName)\n",
    "         .addProperty(VCARD.FN, fullName)\n",
    "         .addProperty(VCARD.N,\n",
    "                      m.createResource()\n",
    "                           .addProperty(VCARD.Given, givenName)\n",
    "                           .addProperty(VCARD.Family, familyName));\n",
    "// make Pieter a foaf:Person\n",
    "\n",
    "pieter.addProperty(RDF.type, FOAF.Person);\n",
    "\n",
    "// create a statement about Maria and Pieter knowing each other\n",
    "\n",
    "Statement s = m.createStatement(maria, FOAF.knows, pieter);\n",
    "m.add(s); // add the statement (triple) to the model\n",
    "\n"
   ]
  },
  {
   "cell_type": "markdown",
   "metadata": {},
   "source": [
    "### Look at the model we have just created"
   ]
  },
  {
   "cell_type": "code",
   "execution_count": null,
   "metadata": {},
   "outputs": [],
   "source": [
    "m.write(System.out, \"Turtle\");"
   ]
  },
  {
   "cell_type": "code",
   "execution_count": null,
   "metadata": {},
   "outputs": [],
   "source": []
  }
 ],
 "metadata": {
  "kernelspec": {
   "display_name": "Java",
   "language": "java",
   "name": "java"
  },
  "language_info": {
   "codemirror_mode": "java",
   "file_extension": ".jshell",
   "mimetype": "text/x-java-source",
   "name": "Java",
   "pygments_lexer": "java",
   "version": "12.0.1+12"
  }
 },
 "nbformat": 4,
 "nbformat_minor": 2
}
